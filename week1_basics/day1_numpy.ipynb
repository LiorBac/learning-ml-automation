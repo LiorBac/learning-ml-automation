{
  "nbformat": 4,
  "nbformat_minor": 0,
  "metadata": {
    "colab": {
      "provenance": [],
      "authorship_tag": "ABX9TyPYyfa4LZxDzu7Ey4BQ3o5n",
      "include_colab_link": true
    },
    "kernelspec": {
      "name": "python3",
      "display_name": "Python 3"
    },
    "language_info": {
      "name": "python"
    }
  },
  "cells": [
    {
      "cell_type": "markdown",
      "metadata": {
        "id": "view-in-github",
        "colab_type": "text"
      },
      "source": [
        "<a href=\"https://colab.research.google.com/github/LiorBac/learning-ml-automation/blob/main/week1_basics/day1_numpy.ipynb\" target=\"_parent\"><img src=\"https://colab.research.google.com/assets/colab-badge.svg\" alt=\"Open In Colab\"/></a>"
      ]
    },
    {
      "cell_type": "markdown",
      "source": [
        "# 📘 NumPy Basics – Day 1\n",
        "\n",
        "NumPy is the core library for numerical computing in Python. It provides:\n",
        "\n",
        "- Fast and efficient arrays (much faster than Python lists)  \n",
        "- Mathematical operations (linear algebra, statistics, random numbers)  \n",
        "- Tools for scientific computing  \n",
        "\n",
        "Today we will explore the fundamentals step by step.\n",
        "\n"
      ],
      "metadata": {
        "id": "trElhbZ7xka1"
      }
    },
    {
      "cell_type": "markdown",
      "source": [
        "---\n",
        "## 🔹 Importing NumPy\n",
        "\n",
        "The convention is to import NumPy as `np`.  \n",
        "This makes it shorter to use in code.\n",
        "\n",
        "👉 Example:\n",
        "```python\n",
        "import numpy as np\n"
      ],
      "metadata": {
        "id": "DVOwAVlxx2kb"
      }
    },
    {
      "cell_type": "code",
      "execution_count": 2,
      "metadata": {
        "id": "Y2tNUblztuLF"
      },
      "outputs": [],
      "source": [
        "import numpy as np"
      ]
    },
    {
      "cell_type": "markdown",
      "source": [
        "\n",
        "---\n",
        "## 🔹 Creating Arrays\n",
        "\n",
        "NumPy arrays can be created in different ways:\n",
        "\n",
        "- From Python lists: `np.array([1,2,3])`  \n",
        "- With zeros: `np.zeros((rows, cols))`  \n",
        "- With ones: `np.ones((rows, cols))`  \n",
        "- With a range of numbers: `np.arange(start, stop, step)`  \n",
        "- With evenly spaced numbers: `np.linspace(start, stop, num_points)`  \n"
      ],
      "metadata": {
        "id": "HFtSsTJhx9e8"
      }
    },
    {
      "cell_type": "code",
      "source": [
        "a=np.array([1,2,3])\n",
        "print(a)"
      ],
      "metadata": {
        "colab": {
          "base_uri": "https://localhost:8080/"
        },
        "id": "K4BJzk9bv0KH",
        "outputId": "b3587c06-ddd4-435e-b586-36af22899635"
      },
      "execution_count": 3,
      "outputs": [
        {
          "output_type": "execute_result",
          "data": {
            "text/plain": [
              "array([1, 2, 3])"
            ]
          },
          "metadata": {},
          "execution_count": 3
        }
      ]
    },
    {
      "cell_type": "code",
      "source": [
        "b=np.zeros((2,3))\n",
        "print(b)"
      ],
      "metadata": {
        "colab": {
          "base_uri": "https://localhost:8080/"
        },
        "id": "WS3RmwXRv9Ee",
        "outputId": "8d7f2b01-779a-4264-d91e-9257eff8648e"
      },
      "execution_count": 4,
      "outputs": [
        {
          "output_type": "execute_result",
          "data": {
            "text/plain": [
              "array([[0., 0., 0.],\n",
              "       [0., 0., 0.]])"
            ]
          },
          "metadata": {},
          "execution_count": 4
        }
      ]
    },
    {
      "cell_type": "code",
      "source": [
        "c = np.ones((3, 3))\n",
        "print(c)"
      ],
      "metadata": {
        "colab": {
          "base_uri": "https://localhost:8080/"
        },
        "id": "kPAmkafxwrCI",
        "outputId": "bcfe3305-9d6b-41ca-efeb-2d5a6028dd3d"
      },
      "execution_count": 8,
      "outputs": [
        {
          "output_type": "stream",
          "name": "stdout",
          "text": [
            "[[1. 1. 1.]\n",
            " [1. 1. 1.]\n",
            " [1. 1. 1.]]\n"
          ]
        }
      ]
    },
    {
      "cell_type": "code",
      "source": [
        "d = np.arange(0, 12 , 3)\n",
        "print(d)"
      ],
      "metadata": {
        "colab": {
          "base_uri": "https://localhost:8080/"
        },
        "id": "X8PZBHwEwwjm",
        "outputId": "bb210519-5533-47d1-8fb5-9ceabadfbea1"
      },
      "execution_count": 12,
      "outputs": [
        {
          "output_type": "stream",
          "name": "stdout",
          "text": [
            "[0 3 6 9]\n"
          ]
        }
      ]
    },
    {
      "cell_type": "code",
      "source": [
        "e = np.linspace(0, 1, 5)\n",
        "print(e)"
      ],
      "metadata": {
        "colab": {
          "base_uri": "https://localhost:8080/"
        },
        "id": "kvAgTQvLw1zO",
        "outputId": "3b6bcfb7-f2a2-4d0c-8a3a-2f0efe53fb69"
      },
      "execution_count": 10,
      "outputs": [
        {
          "output_type": "stream",
          "name": "stdout",
          "text": [
            "[0.   0.25 0.5  0.75 1.  ]\n"
          ]
        }
      ]
    },
    {
      "cell_type": "markdown",
      "source": [
        "---\n",
        "## 🔹 Array Properties\n",
        "\n",
        "Every NumPy array has useful attributes:\n",
        "\n",
        "- `.shape` → dimensions (rows, columns)  \n",
        "- `.dtype` → data type (int, float, etc.)  \n",
        "- `.size` → total number of elements  \n",
        "\n",
        "You can also reshape arrays with `.reshape(new_rows, new_cols)`.\n"
      ],
      "metadata": {
        "id": "x2E00MuayXbG"
      }
    },
    {
      "cell_type": "code",
      "source": [
        "arr = np.arange(12)\n",
        "print(arr)"
      ],
      "metadata": {
        "colab": {
          "base_uri": "https://localhost:8080/"
        },
        "id": "A8fgS7nRw5EO",
        "outputId": "6d7a02e5-ec6c-4d0c-8c34-758b1b8607ff"
      },
      "execution_count": 13,
      "outputs": [
        {
          "output_type": "stream",
          "name": "stdout",
          "text": [
            "[ 0  1  2  3  4  5  6  7  8  9 10 11]\n"
          ]
        }
      ]
    },
    {
      "cell_type": "code",
      "source": [
        "print(arr.shape)"
      ],
      "metadata": {
        "colab": {
          "base_uri": "https://localhost:8080/"
        },
        "id": "7BzWgltWxJ6n",
        "outputId": "e5a9a71d-90da-421b-828a-5e63708a7465"
      },
      "execution_count": 16,
      "outputs": [
        {
          "output_type": "stream",
          "name": "stdout",
          "text": [
            "(12,)\n"
          ]
        }
      ]
    },
    {
      "cell_type": "code",
      "source": [
        "print(arr.dtype)"
      ],
      "metadata": {
        "colab": {
          "base_uri": "https://localhost:8080/"
        },
        "id": "ptVgt_DAxUjS",
        "outputId": "22222610-0e1f-4f2a-8de7-0aedf879d367"
      },
      "execution_count": 17,
      "outputs": [
        {
          "output_type": "stream",
          "name": "stdout",
          "text": [
            "int64\n"
          ]
        }
      ]
    },
    {
      "cell_type": "code",
      "source": [
        "print(arr.size)"
      ],
      "metadata": {
        "colab": {
          "base_uri": "https://localhost:8080/"
        },
        "id": "sYCFagFzyje1",
        "outputId": "a1a8dfed-c7da-4408-a581-8b5a277c810d"
      },
      "execution_count": 18,
      "outputs": [
        {
          "output_type": "stream",
          "name": "stdout",
          "text": [
            "12\n"
          ]
        }
      ]
    },
    {
      "cell_type": "code",
      "source": [
        "print(arr.reshape(3, 4))"
      ],
      "metadata": {
        "colab": {
          "base_uri": "https://localhost:8080/"
        },
        "id": "iyuX2ROqylAt",
        "outputId": "ae218690-2d8b-49e6-cb84-b7fb17c29958"
      },
      "execution_count": 20,
      "outputs": [
        {
          "output_type": "stream",
          "name": "stdout",
          "text": [
            "[[ 0  1  2  3]\n",
            " [ 4  5  6  7]\n",
            " [ 8  9 10 11]]\n"
          ]
        }
      ]
    },
    {
      "cell_type": "code",
      "source": [
        "print(arr.reshape(2, 6))"
      ],
      "metadata": {
        "colab": {
          "base_uri": "https://localhost:8080/"
        },
        "id": "ipfNz-CEyqZy",
        "outputId": "c75748e2-3e2e-4bae-b0fa-ac364bae2d55"
      },
      "execution_count": 21,
      "outputs": [
        {
          "output_type": "stream",
          "name": "stdout",
          "text": [
            "[[ 0  1  2  3  4  5]\n",
            " [ 6  7  8  9 10 11]]\n"
          ]
        }
      ]
    },
    {
      "cell_type": "markdown",
      "source": [
        "---\n",
        "## 🔹 Indexing & Slicing\n",
        "\n",
        "Like Python lists, NumPy arrays support indexing and slicing:\n",
        "\n",
        "- Access an element: `arr[0]`  \n",
        "- Access a slice: `arr[2:6]`  \n",
        "- Use conditions: `arr[arr > 5]` (boolean indexing)  "
      ],
      "metadata": {
        "id": "2YVvOt5xywd8"
      }
    },
    {
      "cell_type": "code",
      "source": [
        "arr = np.arange(0,10,2)\n",
        "print(arr)"
      ],
      "metadata": {
        "colab": {
          "base_uri": "https://localhost:8080/"
        },
        "id": "6_TvWci7ytLG",
        "outputId": "6c6fc3ac-46f3-4f79-8288-c445daeb168a"
      },
      "execution_count": 22,
      "outputs": [
        {
          "output_type": "stream",
          "name": "stdout",
          "text": [
            "[0 2 4 6 8]\n"
          ]
        }
      ]
    },
    {
      "cell_type": "code",
      "source": [
        "print(arr[0])"
      ],
      "metadata": {
        "colab": {
          "base_uri": "https://localhost:8080/"
        },
        "id": "_yDmv0R8zLxw",
        "outputId": "5ac9f2b6-e902-4100-d004-5290b2b9e94d"
      },
      "execution_count": 23,
      "outputs": [
        {
          "output_type": "stream",
          "name": "stdout",
          "text": [
            "0\n"
          ]
        }
      ]
    },
    {
      "cell_type": "code",
      "source": [
        "print(arr[1:4])"
      ],
      "metadata": {
        "colab": {
          "base_uri": "https://localhost:8080/"
        },
        "id": "k6BQ7AbEzRpj",
        "outputId": "89a37680-1312-4f58-dcbf-d8f7777295ca"
      },
      "execution_count": 25,
      "outputs": [
        {
          "output_type": "stream",
          "name": "stdout",
          "text": [
            "[2 4 6]\n"
          ]
        }
      ]
    },
    {
      "cell_type": "code",
      "source": [
        "print(arr[arr > 4])"
      ],
      "metadata": {
        "colab": {
          "base_uri": "https://localhost:8080/"
        },
        "id": "ZaI-PXEXzU_K",
        "outputId": "55becaaa-6bb3-430c-b695-a70a522149af"
      },
      "execution_count": 26,
      "outputs": [
        {
          "output_type": "stream",
          "name": "stdout",
          "text": [
            "[6 8]\n"
          ]
        }
      ]
    },
    {
      "cell_type": "code",
      "source": [
        "print(arr > 2)"
      ],
      "metadata": {
        "colab": {
          "base_uri": "https://localhost:8080/"
        },
        "id": "_ng6GNCFzdNK",
        "outputId": "571fc094-6f94-4f41-9563-601305001a28"
      },
      "execution_count": 27,
      "outputs": [
        {
          "output_type": "stream",
          "name": "stdout",
          "text": [
            "[False False  True  True  True]\n"
          ]
        }
      ]
    },
    {
      "cell_type": "markdown",
      "source": [
        "---\n",
        "## 🔹 Operations\n",
        "\n",
        "NumPy allows **element-wise operations** and **broadcasting**:\n",
        "\n",
        "- Add arrays: `x + y`  \n",
        "- Multiply arrays: `x * y`  \n",
        "- Aggregate functions:  \n",
        "  - `arr.sum()`  \n",
        "  - `arr.mean()`  \n",
        "  - `arr.max()`, `arr.min()`  \n"
      ],
      "metadata": {
        "id": "59kyRBsXzqJ0"
      }
    },
    {
      "cell_type": "code",
      "source": [
        "a = np.arange(0,10,2)\n",
        "print(a)"
      ],
      "metadata": {
        "colab": {
          "base_uri": "https://localhost:8080/"
        },
        "id": "U2ofDCv1zkad",
        "outputId": "698b782e-de11-48e0-b663-86a898c1036e"
      },
      "execution_count": 29,
      "outputs": [
        {
          "output_type": "stream",
          "name": "stdout",
          "text": [
            "[0 2 4 6 8]\n"
          ]
        }
      ]
    },
    {
      "cell_type": "code",
      "source": [
        "b = np.arange(2,15,3)\n",
        "print(b)"
      ],
      "metadata": {
        "colab": {
          "base_uri": "https://localhost:8080/"
        },
        "id": "1KhHm4fHz8tI",
        "outputId": "c0107134-3f72-4de4-fa1d-3a086d19aee6"
      },
      "execution_count": 31,
      "outputs": [
        {
          "output_type": "stream",
          "name": "stdout",
          "text": [
            "[ 2  5  8 11 14]\n"
          ]
        }
      ]
    },
    {
      "cell_type": "code",
      "source": [
        "print(a+b)"
      ],
      "metadata": {
        "colab": {
          "base_uri": "https://localhost:8080/"
        },
        "id": "79Gu_97Y0ENh",
        "outputId": "c23958b2-6a06-4bf6-bf93-a4f473902049"
      },
      "execution_count": 32,
      "outputs": [
        {
          "output_type": "stream",
          "name": "stdout",
          "text": [
            "[ 2  7 12 17 22]\n"
          ]
        }
      ]
    },
    {
      "cell_type": "code",
      "source": [
        "print(a*b)"
      ],
      "metadata": {
        "colab": {
          "base_uri": "https://localhost:8080/"
        },
        "id": "M_tmiCDd0KR8",
        "outputId": "88f3cb4b-4bc1-465f-ed09-e47fe0b28346"
      },
      "execution_count": 33,
      "outputs": [
        {
          "output_type": "stream",
          "name": "stdout",
          "text": [
            "[  0  10  32  66 112]\n"
          ]
        }
      ]
    },
    {
      "cell_type": "code",
      "source": [
        "print(a*5)"
      ],
      "metadata": {
        "colab": {
          "base_uri": "https://localhost:8080/"
        },
        "id": "Fk-DU_gf0L4T",
        "outputId": "d82835b8-0bad-46f1-87c7-84fc75b749d0"
      },
      "execution_count": 34,
      "outputs": [
        {
          "output_type": "stream",
          "name": "stdout",
          "text": [
            "[ 0 10 20 30 40]\n"
          ]
        }
      ]
    },
    {
      "cell_type": "code",
      "source": [
        "print(a.sum())"
      ],
      "metadata": {
        "colab": {
          "base_uri": "https://localhost:8080/"
        },
        "id": "chaq9EMW0Ov4",
        "outputId": "55402bda-504c-4e61-95dd-cffe2ee6b300"
      },
      "execution_count": 36,
      "outputs": [
        {
          "output_type": "stream",
          "name": "stdout",
          "text": [
            "20\n"
          ]
        }
      ]
    },
    {
      "cell_type": "code",
      "source": [
        "print(a.mean())"
      ],
      "metadata": {
        "colab": {
          "base_uri": "https://localhost:8080/"
        },
        "id": "JzkbyNzM0d4b",
        "outputId": "8d903fbc-f129-41c2-e299-f4a04738d3cb"
      },
      "execution_count": 37,
      "outputs": [
        {
          "output_type": "stream",
          "name": "stdout",
          "text": [
            "4.0\n"
          ]
        }
      ]
    },
    {
      "cell_type": "code",
      "source": [
        "print(a.max())\n",
        "print(a.min())"
      ],
      "metadata": {
        "colab": {
          "base_uri": "https://localhost:8080/"
        },
        "id": "vZlcWm0-0ia9",
        "outputId": "607be3cb-5c7a-49ec-a18f-f82a794f3361"
      },
      "execution_count": 38,
      "outputs": [
        {
          "output_type": "stream",
          "name": "stdout",
          "text": [
            "8\n",
            "0\n"
          ]
        }
      ]
    },
    {
      "cell_type": "markdown",
      "source": [
        "---\n",
        "## 🔹 Random Numbers\n",
        "\n",
        "NumPy includes a random module:\n",
        "\n",
        "- `np.random.rand(shape)` → random numbers between 0 and 1  \n",
        "- `np.random.randn(shape)` → random numbers from normal distribution  \n",
        "- `np.random.randint(low, high, size)` → random integers in a range  \n"
      ],
      "metadata": {
        "id": "sGz45PHM0tH6"
      }
    },
    {
      "cell_type": "code",
      "source": [
        "a = np.random.rand(2,2)\n",
        "print(a)"
      ],
      "metadata": {
        "colab": {
          "base_uri": "https://localhost:8080/"
        },
        "id": "_O2Qlfg40qBX",
        "outputId": "2eb1466b-2b53-414a-884e-de643a8a9dc6"
      },
      "execution_count": 39,
      "outputs": [
        {
          "output_type": "stream",
          "name": "stdout",
          "text": [
            "[[0.3516901  0.95851937]\n",
            " [0.3933016  0.388322  ]]\n"
          ]
        }
      ]
    },
    {
      "cell_type": "code",
      "source": [
        "a = np.random.randn(2,2)\n",
        "print(a)"
      ],
      "metadata": {
        "colab": {
          "base_uri": "https://localhost:8080/"
        },
        "id": "MI57exJo03R4",
        "outputId": "4e501b3f-9b2c-4c8b-cb61-0b64b34b1f15"
      },
      "execution_count": 40,
      "outputs": [
        {
          "output_type": "stream",
          "name": "stdout",
          "text": [
            "[[ 0.74141465 -0.45005984]\n",
            " [-0.44657532  0.44277007]]\n"
          ]
        }
      ]
    },
    {
      "cell_type": "code",
      "source": [
        "a = np.random.randint(0,10,4)\n",
        "print(a)"
      ],
      "metadata": {
        "colab": {
          "base_uri": "https://localhost:8080/"
        },
        "id": "b6-yraEl08P8",
        "outputId": "a81b9897-1b6f-4a66-f996-9cc7ebdbe44f"
      },
      "execution_count": 41,
      "outputs": [
        {
          "output_type": "stream",
          "name": "stdout",
          "text": [
            "[7 5 6 0]\n"
          ]
        }
      ]
    },
    {
      "cell_type": "markdown",
      "source": [
        "---\n",
        "## ✍️ Mini Exercises\n",
        "\n",
        "1. Create a 3×3 array with values from 0 to 8.  \n",
        "2. Create a random 5×5 matrix and find its maximum value.  \n",
        "3. Generate an array of 100 random numbers and compute mean & standard deviation.  \n",
        "4. Reshape a 1D array of 16 elements into a 4×4 matrix.  \n"
      ],
      "metadata": {
        "id": "Cu1qG6mY1FGu"
      }
    },
    {
      "cell_type": "markdown",
      "source": [
        "### 📝 Exercise 1\n",
        "Create a 3×3 array with values from 0 to 8.\n"
      ],
      "metadata": {
        "id": "Fsf7ex021PUu"
      }
    },
    {
      "cell_type": "code",
      "source": [
        "a = np.arange(9)\n",
        "a = a.reshape(3,3)\n",
        "print(a)"
      ],
      "metadata": {
        "colab": {
          "base_uri": "https://localhost:8080/"
        },
        "id": "TCsfy2sE1CM1",
        "outputId": "25c785f5-00c8-48eb-9307-b9d3fe43779c"
      },
      "execution_count": 44,
      "outputs": [
        {
          "output_type": "stream",
          "name": "stdout",
          "text": [
            "[[0 1 2]\n",
            " [3 4 5]\n",
            " [6 7 8]]\n"
          ]
        }
      ]
    },
    {
      "cell_type": "markdown",
      "source": [
        "### 📝 Exercise 2\n",
        "Create a random 5×5 matrix and find its maximum value.\n"
      ],
      "metadata": {
        "id": "wqDhjTsn1pFp"
      }
    },
    {
      "cell_type": "code",
      "source": [
        "a = np.random.rand(5,5)\n",
        "print(a)\n",
        "b = a.max()\n",
        "print(b)"
      ],
      "metadata": {
        "colab": {
          "base_uri": "https://localhost:8080/"
        },
        "id": "vhUJA9yF1c-R",
        "outputId": "d876aca1-5cc6-42f7-89f9-c63dff5d283d"
      },
      "execution_count": 47,
      "outputs": [
        {
          "output_type": "stream",
          "name": "stdout",
          "text": [
            "[[0.80051695 0.51881329 0.93385531 0.08999162 0.61940522]\n",
            " [0.6436836  0.31660433 0.32744892 0.79858485 0.96171361]\n",
            " [0.21229287 0.89979817 0.66120769 0.13797292 0.94064317]\n",
            " [0.82908432 0.38322534 0.04233595 0.02449641 0.90317579]\n",
            " [0.52900678 0.87063754 0.22420494 0.48836189 0.89351966]]\n",
            "0.9617136118979496\n"
          ]
        }
      ]
    },
    {
      "cell_type": "markdown",
      "source": [
        "### 📝 Exercise 3\n",
        "Generate an array of 100 random numbers and compute mean & standard deviation.  "
      ],
      "metadata": {
        "id": "9OlJPlGB26tr"
      }
    },
    {
      "cell_type": "code",
      "source": [
        "a=np.random.rand(100)\n",
        "b=a.mean()\n",
        "c=a.std()\n",
        "print(a)\n",
        "print(b)\n",
        "print(c)"
      ],
      "metadata": {
        "colab": {
          "base_uri": "https://localhost:8080/"
        },
        "id": "BRaBNUOS3Bgx",
        "outputId": "065cf377-e740-4c23-fc4e-95e1bd756b04"
      },
      "execution_count": 48,
      "outputs": [
        {
          "output_type": "stream",
          "name": "stdout",
          "text": [
            "[0.75514873 0.3714984  0.42272172 0.98808807 0.51459275 0.63873088\n",
            " 0.91504888 0.90938379 0.32545038 0.88652264 0.30624971 0.33465806\n",
            " 0.70525868 0.47725187 0.63371017 0.22638334 0.43312531 0.40344211\n",
            " 0.62774977 0.28752819 0.2149316  0.77771854 0.11533783 0.37868283\n",
            " 0.19488329 0.47222775 0.06892684 0.31204961 0.6124139  0.56959768\n",
            " 0.75605989 0.37430551 0.53474256 0.05963336 0.91013205 0.80168386\n",
            " 0.66254148 0.93330248 0.43069015 0.03372807 0.93404899 0.32977921\n",
            " 0.93642023 0.50547829 0.33566854 0.5780479  0.61091527 0.07833575\n",
            " 0.03376732 0.71432111 0.52989433 0.8354064  0.20122308 0.80828816\n",
            " 0.83013051 0.54090647 0.34391102 0.55762124 0.37983791 0.53912049\n",
            " 0.23714475 0.055377   0.583995   0.28893344 0.25941824 0.52861773\n",
            " 0.85489236 0.71508804 0.58078777 0.18938346 0.95901218 0.42820967\n",
            " 0.27450706 0.39357271 0.13402346 0.41221401 0.21644972 0.07657331\n",
            " 0.23801079 0.57630764 0.38555799 0.01015718 0.64054503 0.44938018\n",
            " 0.45317166 0.77250807 0.34236381 0.92601356 0.22851041 0.92584976\n",
            " 0.61585717 0.94271269 0.77040334 0.32066443 0.79503333 0.70038298\n",
            " 0.87520552 0.88576465 0.37630987 0.51029536]\n",
            "0.5092846030117727\n",
            "0.2658982995803421\n"
          ]
        }
      ]
    },
    {
      "cell_type": "markdown",
      "source": [
        "### 📝 Exercise 4\n",
        "Reshape a 1D array of 16 elements into a 4×4 matrix."
      ],
      "metadata": {
        "id": "gSUVzDO53btx"
      }
    },
    {
      "cell_type": "code",
      "source": [
        "a = np.zeros(16)\n",
        "b = a.reshape(4,4)\n",
        "print(a)\n",
        "print(b)"
      ],
      "metadata": {
        "colab": {
          "base_uri": "https://localhost:8080/"
        },
        "id": "I8lMHNV-3VlV",
        "outputId": "fa24d3e2-2fe7-4969-db97-77c655149e25"
      },
      "execution_count": 52,
      "outputs": [
        {
          "output_type": "stream",
          "name": "stdout",
          "text": [
            "[0. 0. 0. 0. 0. 0. 0. 0. 0. 0. 0. 0. 0. 0. 0. 0.]\n",
            "[[0. 0. 0. 0.]\n",
            " [0. 0. 0. 0.]\n",
            " [0. 0. 0. 0.]\n",
            " [0. 0. 0. 0.]]\n"
          ]
        }
      ]
    },
    {
      "cell_type": "code",
      "source": [],
      "metadata": {
        "id": "HpSv6v6T3jkn"
      },
      "execution_count": null,
      "outputs": []
    }
  ]
}